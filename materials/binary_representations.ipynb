{
 "cells": [
  {
   "cell_type": "markdown",
   "metadata": {},
   "source": [
    "# Binary Representations"
   ]
  },
  {
   "cell_type": "code",
   "execution_count": 1,
   "metadata": {},
   "outputs": [],
   "source": [
    "# C-like structs.\n",
    "import struct\n",
    "\n",
    "# Math.\n",
    "import math\n",
    "\n",
    "# NumPy.\n",
    "import numpy as np"
   ]
  },
  {
   "cell_type": "markdown",
   "metadata": {},
   "source": [
    "## Motivation"
   ]
  },
  {
   "cell_type": "markdown",
   "metadata": {},
   "source": [
    "> [FIPS PUB 180-4](https://doi.org/10.6028/NIST.FIPS.180-4)  \n",
    "> Secure Hash Standard  \n",
    "> Information Technology Laboratory  \n",
    "> National Institute of Standards and Technology  \n",
    "> U.S. Department of Commerce  "
   ]
  },
  {
   "cell_type": "markdown",
   "metadata": {},
   "source": [
    "## Types"
   ]
  },
  {
   "cell_type": "markdown",
   "metadata": {},
   "source": [
    "https://realpython.com/python-data-types/"
   ]
  },
  {
   "cell_type": "code",
   "execution_count": 2,
   "metadata": {},
   "outputs": [],
   "source": [
    "# Create a new variable, assign the literal 5.\n",
    "i  = 5"
   ]
  },
  {
   "cell_type": "code",
   "execution_count": 3,
   "metadata": {},
   "outputs": [
    {
     "data": {
      "text/plain": [
       "int"
      ]
     },
     "execution_count": 3,
     "metadata": {},
     "output_type": "execute_result"
    }
   ],
   "source": [
    "# What type does i have?\n",
    "type(i)"
   ]
  },
  {
   "cell_type": "code",
   "execution_count": 4,
   "metadata": {},
   "outputs": [],
   "source": [
    "# Create a new variable, assign the literal 5.0.\n",
    "f = 5.0"
   ]
  },
  {
   "cell_type": "code",
   "execution_count": 5,
   "metadata": {},
   "outputs": [
    {
     "data": {
      "text/plain": [
       "float"
      ]
     },
     "execution_count": 5,
     "metadata": {},
     "output_type": "execute_result"
    }
   ],
   "source": [
    "# What type does f have?\n",
    "type(f)"
   ]
  },
  {
   "cell_type": "code",
   "execution_count": 6,
   "metadata": {},
   "outputs": [],
   "source": [
    "# Create a new variable, assign the literal \"5\".\n",
    "s = \"5\""
   ]
  },
  {
   "cell_type": "code",
   "execution_count": 7,
   "metadata": {},
   "outputs": [
    {
     "data": {
      "text/plain": [
       "str"
      ]
     },
     "execution_count": 7,
     "metadata": {},
     "output_type": "execute_result"
    }
   ],
   "source": [
    "# What type does s have?\n",
    "type(s)"
   ]
  },
  {
   "cell_type": "markdown",
   "metadata": {},
   "source": [
    "## Integer Sizes"
   ]
  },
  {
   "cell_type": "markdown",
   "metadata": {},
   "source": [
    "[int.bit_length()](https://docs.python.org/3/library/stdtypes.html#int.bit_length)  "
   ]
  },
  {
   "cell_type": "code",
   "execution_count": 8,
   "metadata": {},
   "outputs": [
    {
     "data": {
      "text/plain": [
       "3"
      ]
     },
     "execution_count": 8,
     "metadata": {},
     "output_type": "execute_result"
    }
   ],
   "source": [
    "# Size of i.\n",
    "i.bit_length()"
   ]
  },
  {
   "cell_type": "code",
   "execution_count": 9,
   "metadata": {},
   "outputs": [
    {
     "data": {
      "text/plain": [
       "'0b101'"
      ]
     },
     "execution_count": 9,
     "metadata": {},
     "output_type": "execute_result"
    }
   ],
   "source": [
    "# Show i in binary.\n",
    "bin(i)"
   ]
  },
  {
   "cell_type": "code",
   "execution_count": 10,
   "metadata": {},
   "outputs": [],
   "source": [
    "# Python has arbitrary precision integers.\n",
    "really_big = 3469803460834690825830628609824685390685709348734097830599874974039874"
   ]
  },
  {
   "cell_type": "code",
   "execution_count": 11,
   "metadata": {},
   "outputs": [
    {
     "data": {
      "text/plain": [
       "int"
      ]
     },
     "execution_count": 11,
     "metadata": {},
     "output_type": "execute_result"
    }
   ],
   "source": [
    "# Type.\n",
    "type(really_big)"
   ]
  },
  {
   "cell_type": "code",
   "execution_count": 12,
   "metadata": {},
   "outputs": [
    {
     "data": {
      "text/plain": [
       "232"
      ]
     },
     "execution_count": 12,
     "metadata": {},
     "output_type": "execute_result"
    }
   ],
   "source": [
    "# Bit length.\n",
    "really_big.bit_length()"
   ]
  },
  {
   "cell_type": "code",
   "execution_count": 13,
   "metadata": {},
   "outputs": [
    {
     "name": "stdout",
     "output_type": "stream",
     "text": [
      "       0     0     0\n",
      "     111     3     3\n",
      "    1110     4     3\n",
      "   10101     5     3\n",
      "   11100     5     3\n",
      "  100011     6     3\n",
      "  101010     6     3\n",
      "  110001     6     3\n",
      "  111000     6     3\n",
      "  111111     6     6\n",
      " 1000110     7     3\n",
      " 1001101     7     4\n",
      " 1010100     7     3\n",
      " 1011011     7     5\n",
      " 1100010     7     3\n"
     ]
    }
   ],
   "source": [
    "# Number of bits and bits set in i.\n",
    "for i in range(0, 101, 7):\n",
    "    print(f\"{i:8b}{i.bit_length():6d}{i.bit_count():6d}\")"
   ]
  },
  {
   "cell_type": "markdown",
   "metadata": {},
   "source": [
    "## Floating Point Numbers"
   ]
  },
  {
   "cell_type": "markdown",
   "metadata": {},
   "source": [
    "![32-bit float](https://upload.wikimedia.org/wikipedia/commons/thumb/d/d2/Float_example.svg/590px-Float_example.svg.png)\n",
    "\n",
    "[Floating-Point Numbers, Real Python](https://realpython.com/python-bitwise-operators/#floating-point-numbers)  \n",
    "\n",
    "[IEEE 754, WikiPedia](https://en.wikipedia.org/wiki/IEEE_754)  \n",
    "\n",
    "[Floating-Point Arithmetic: Issues and Limitations](https://docs.python.org/3/tutorial/floatingpoint.html#floating-point-arithmetic-issues-and-limitations)"
   ]
  },
  {
   "cell_type": "code",
   "execution_count": 14,
   "metadata": {},
   "outputs": [
    {
     "data": {
      "text/plain": [
       "False"
      ]
     },
     "execution_count": 14,
     "metadata": {},
     "output_type": "execute_result"
    }
   ],
   "source": [
    "# Watch out for comparisons.\n",
    "u = 0.3\n",
    "v = 3.0 * 0.1\n",
    "u - v == 0.0"
   ]
  },
  {
   "cell_type": "code",
   "execution_count": 15,
   "metadata": {},
   "outputs": [
    {
     "data": {
      "text/plain": [
       "True"
      ]
     },
     "execution_count": 15,
     "metadata": {},
     "output_type": "execute_result"
    }
   ],
   "source": [
    "# Is close.\n",
    "math.isclose(u, v)"
   ]
  },
  {
   "cell_type": "markdown",
   "metadata": {},
   "source": [
    "## Bitwise Operators"
   ]
  },
  {
   "cell_type": "markdown",
   "metadata": {},
   "source": [
    "https://wiki.python.org/moin/BitwiseOperators"
   ]
  },
  {
   "cell_type": "code",
   "execution_count": 16,
   "metadata": {},
   "outputs": [
    {
     "name": "stdout",
     "output_type": "stream",
     "text": [
      "12 0b1100 0xc\n"
     ]
    }
   ],
   "source": [
    "# Decimal 12.\n",
    "u = 0b1100\n",
    "\n",
    "# Decimal, binary, hex.\n",
    "print(u, bin(u), hex(u))"
   ]
  },
  {
   "cell_type": "code",
   "execution_count": 17,
   "metadata": {},
   "outputs": [
    {
     "name": "stdout",
     "output_type": "stream",
     "text": [
      "10 0b1010 0xa\n"
     ]
    }
   ],
   "source": [
    "# Decimal 10.\n",
    "v = 0b1010\n",
    "\n",
    "# Decimal, binary, hex.\n",
    "print(v, bin(v), hex(v))"
   ]
  },
  {
   "cell_type": "markdown",
   "metadata": {},
   "source": [
    "## Bitwise AND (`&`)\n",
    "\n",
    "\n",
    "https://docs.python.org/3/library/stdtypes.html#bitwise-and  \n",
    "\n",
    "Performs a bitwise AND on two numbers.  \n",
    "Each bit is compared; if both are `1`, the result is `1`. Otherwise, it is `0`."
   ]
  },
  {
   "cell_type": "code",
   "execution_count": 18,
   "metadata": {},
   "outputs": [
    {
     "name": "stdout",
     "output_type": "stream",
     "text": [
      "8 0b1000 0x8\n"
     ]
    }
   ],
   "source": [
    "# 0b0001\n",
    "result = u & v\n",
    "\n",
    "# Decimal, binary, hex.\n",
    "print(result, bin(result), hex(result))"
   ]
  },
  {
   "cell_type": "code",
   "execution_count": 19,
   "metadata": {},
   "outputs": [
    {
     "name": "stdout",
     "output_type": "stream",
     "text": [
      "     u: 1100\n",
      "     v: 1010\n",
      "-------------\n",
      " u & v: 1000\n"
     ]
    }
   ],
   "source": [
    "# Print a using f-strings.\n",
    "print(f'     u: {u:04b}')\n",
    "\n",
    "# Print b using f-strings.\n",
    "print(f'     v: {v:04b}')\n",
    "\n",
    "# Print a line.\n",
    "print('-' * 13)\n",
    "\n",
    "# Print (u & v) using f-strings.\n",
    "print(f' u & v: {(u & v):04b}')"
   ]
  },
  {
   "cell_type": "markdown",
   "metadata": {},
   "source": [
    "## Bitwise OR (`|`)\n",
    "\n",
    "Performs a bitwise OR.  \n",
    "Each bit is compared; if either is `1`, the result is `1`.\n",
    "\n",
    "https://docs.python.org/3/library/stdtypes.html#bitwise-or"
   ]
  },
  {
   "cell_type": "code",
   "execution_count": 20,
   "metadata": {},
   "outputs": [
    {
     "name": "stdout",
     "output_type": "stream",
     "text": [
      "     u: 1100\n",
      "     v: 1010\n",
      "-------------\n",
      " u | v: 1110\n"
     ]
    }
   ],
   "source": [
    "# Print a using f-strings.\n",
    "print(f'     u: {u:04b}')\n",
    "\n",
    "# Print b using f-strings.\n",
    "print(f'     v: {v:04b}')\n",
    "\n",
    "# Print a line.\n",
    "print('-' * 13)\n",
    "\n",
    "# Print (u | v) using f-strings.\n",
    "print(f' u | v: {(u | v):04b}')"
   ]
  },
  {
   "cell_type": "markdown",
   "metadata": {},
   "source": [
    "## Bitwise XOR (`^`)\n",
    "\n",
    "Performs a bitwise XOR.  \n",
    "\n",
    "Each bit is compared; if one is `1` and the other is `0`, the result is `1`.\n",
    "\n",
    "https://docs.python.org/3/library/stdtypes.html#bitwise-xor"
   ]
  },
  {
   "cell_type": "code",
   "execution_count": 21,
   "metadata": {},
   "outputs": [
    {
     "name": "stdout",
     "output_type": "stream",
     "text": [
      "     u: 1100\n",
      "     v: 1010\n",
      "-------------\n",
      " u ^ v: 0110\n"
     ]
    }
   ],
   "source": [
    "# Print a using f-strings.\n",
    "print(f'     u: {u:04b}')\n",
    "\n",
    "# Print b using f-strings.\n",
    "print(f'     v: {v:04b}')\n",
    "\n",
    "# Print a line.\n",
    "print('-' * 13)\n",
    "\n",
    "# Print (u ^ v) using f-strings.\n",
    "print(f' u ^ v: {(u ^ v):04b}')"
   ]
  },
  {
   "cell_type": "markdown",
   "metadata": {},
   "source": [
    "## Bitwise NOT (`~`)\n",
    "\n",
    "Performs a bitwise NOT.  \n",
    "\n",
    "Inverts all bits: `0` becomes `1` and `1` becomes `0`.  \n",
    "\n",
    "https://docs.python.org/3/library/stdtypes.html#bitwise-invert\n"
   ]
  },
  {
   "cell_type": "code",
   "execution_count": 22,
   "metadata": {},
   "outputs": [
    {
     "name": "stdout",
     "output_type": "stream",
     "text": [
      "     u: 1100\n",
      "-------------\n",
      "    ~u: -1101\n"
     ]
    }
   ],
   "source": [
    "# Print a using f-strings.\n",
    "print(f'     u: {u:04b}')\n",
    "\n",
    "# Print a line.\n",
    "print('-' * 13)\n",
    "\n",
    "# Print ~u using f-strings.\n",
    "print(f'    ~u: {~u:04b}')"
   ]
  },
  {
   "cell_type": "markdown",
   "metadata": {},
   "source": [
    "## Negative Integers in Bits\n",
    "\n",
    "Negative integers are represented in **two's complement**.  \n",
    "To get the two's complement:\n",
    "1. Invert all bits.\n",
    "2. Add `1` to the result.\n",
    "\n",
    "In two's complement:\n",
    "- The leftmost bit indicates the sign.\n",
    "- `0` means positive.\n",
    "- `1` means negative.  \n",
    "\n",
    "Use a bit mask like `0xf` to fix signed integer issues.  "
   ]
  },
  {
   "cell_type": "code",
   "execution_count": 23,
   "metadata": {},
   "outputs": [
    {
     "name": "stdout",
     "output_type": "stream",
     "text": [
      "00 0000 -00001 1111\n",
      "01 0001 -00010 1110\n",
      "02 0010 -00011 1101\n",
      "03 0011 -00100 1100\n",
      "04 0100 -00101 1011\n",
      "05 0101 -00110 1010\n",
      "06 0110 -00111 1001\n",
      "07 0111 -01000 1000\n",
      "08 1000 -01001 0111\n",
      "09 1001 -01010 0110\n",
      "10 1010 -01011 0101\n",
      "11 1011 -01100 0100\n",
      "12 1100 -01101 0011\n",
      "13 1101 -01110 0010\n",
      "14 1110 -01111 0001\n",
      "15 1111 -10000 0000\n"
     ]
    }
   ],
   "source": [
    "# Print binary of number 0 to 15 with the binary of the negative of the number.\n",
    "for i in range(16):\n",
    "    print(f'{i:02} {i:04b} {~i:06b} {(~i & 0xf):04b}')"
   ]
  },
  {
   "cell_type": "markdown",
   "metadata": {},
   "source": [
    "## Left Shift (`<<`)\n",
    "Shifts the bits to the left by a specified number of positions.  \n",
    "Adds zeros to the right.\n",
    "\n",
    "https://docs.python.org/3/library/stdtypes.html#bitwise-left-shift\n"
   ]
  },
  {
   "cell_type": "code",
   "execution_count": 24,
   "metadata": {},
   "outputs": [
    {
     "name": "stdout",
     "output_type": "stream",
     "text": [
      "        u: 0000000010110111\n",
      "----------------------------\n",
      " (u << 3): 0000010110111000\n"
     ]
    }
   ],
   "source": [
    "u = 0b010110111\n",
    "\n",
    "# Print u using f-strings.\n",
    "print(f'        u: {u:016b}')\n",
    "\n",
    "# Print line.\n",
    "print('-' * 28)\n",
    "\n",
    "# Print u << 3 using f-strings.\n",
    "print(f' (u << 3): {u << 3:016b}')"
   ]
  },
  {
   "cell_type": "markdown",
   "metadata": {},
   "source": [
    "## Right Shift (`>>`)\n",
    "\n",
    "Shifts the bits to the right by a specified number of positions.  \n",
    "Drops bits from the right.  \n",
    "\n",
    "https://docs.python.org/3/library/stdtypes.html#bitwise-right-shift\n"
   ]
  },
  {
   "cell_type": "code",
   "execution_count": 25,
   "metadata": {},
   "outputs": [
    {
     "name": "stdout",
     "output_type": "stream",
     "text": [
      "        u: 0000000010110111\n",
      "----------------------------\n",
      " (u >> 3): 0000000000010110\n"
     ]
    }
   ],
   "source": [
    "u = 0b010110111\n",
    "\n",
    "# Print u using f-strings.\n",
    "print(f'        u: {u:016b}')\n",
    "\n",
    "# Print line.\n",
    "print('-' * 28)\n",
    "\n",
    "# Print u >> 3 using f-strings.\n",
    "print(f' (u >> 3): {u >> 3:016b}')"
   ]
  },
  {
   "cell_type": "markdown",
   "metadata": {},
   "source": [
    "## Hex\n",
    "\n",
    "Every hex character perfectly represents a nibble.  \n",
    "Hex is easier to write than binary.  "
   ]
  },
  {
   "cell_type": "code",
   "execution_count": 26,
   "metadata": {},
   "outputs": [
    {
     "name": "stdout",
     "output_type": "stream",
     "text": [
      "00 0000 00\n",
      "01 0001 01\n",
      "02 0010 02\n",
      "03 0011 03\n",
      "04 0100 04\n",
      "05 0101 05\n",
      "06 0110 06\n",
      "07 0111 07\n",
      "08 1000 08\n",
      "09 1001 09\n",
      "10 1010 0a\n",
      "11 1011 0b\n",
      "12 1100 0c\n",
      "13 1101 0d\n",
      "14 1110 0e\n",
      "15 1111 0f\n"
     ]
    }
   ],
   "source": [
    "# Print a table of 0 to 15 in decimal, binary, and hexadecimal.\n",
    "for i in range(16):\n",
    "    print(f'{i:02} {i:04b} {i:02x}')"
   ]
  },
  {
   "cell_type": "code",
   "execution_count": 27,
   "metadata": {},
   "outputs": [
    {
     "name": "stdout",
     "output_type": "stream",
     "text": [
      "0c & 0a = 08\n"
     ]
    }
   ],
   "source": [
    "# Bitwise operations using hex.\n",
    "print(f'{0x0C:02x} & {0x0A:02x} = {0x0C & 0x0A:02x}')"
   ]
  },
  {
   "cell_type": "markdown",
   "metadata": {},
   "source": [
    "## `struct`\n",
    "\n",
    "https://docs.python.org/3/library/struct.html"
   ]
  },
  {
   "cell_type": "markdown",
   "metadata": {},
   "source": [
    "From: The C Programming Language by Brian Kernighan and Dennis Ritchie.\n",
    "\n",
    "```c\n",
    "struct point {\n",
    "    int x;\n",
    "    int y;\n",
    "};\n",
    "```\n",
    "\n",
    "```c\n",
    "struct rect {\n",
    "    struct point pt1;\n",
    "    struct point pt2;\n",
    "};\n",
    "```\n",
    "\n",
    "```c\n",
    "/* addpoints: add two points */\n",
    "struct addpoint(struct point p1, struct point p2) {\n",
    "    p1.x += p2.x;\n",
    "    p1.y += p2.y;\n",
    "    \n",
    "    return p1;\n",
    "}\n",
    "```"
   ]
  },
  {
   "cell_type": "code",
   "execution_count": 28,
   "metadata": {},
   "outputs": [],
   "source": [
    "# A 64 bit integer.\n",
    "large = 0xfedcba9876543210"
   ]
  },
  {
   "cell_type": "code",
   "execution_count": 29,
   "metadata": {},
   "outputs": [
    {
     "name": "stdout",
     "output_type": "stream",
     "text": [
      "large: 1111111011011100101110101001100001110110010101000011001000010000\n"
     ]
    }
   ],
   "source": [
    "# Print large using f-strings.\n",
    "print(f'large: {large:064b}')"
   ]
  },
  {
   "cell_type": "code",
   "execution_count": 30,
   "metadata": {},
   "outputs": [
    {
     "data": {
      "text/plain": [
       "64"
      ]
     },
     "execution_count": 30,
     "metadata": {},
     "output_type": "execute_result"
    }
   ],
   "source": [
    "# Bit length.\n",
    "large.bit_length()"
   ]
  },
  {
   "cell_type": "markdown",
   "metadata": {},
   "source": [
    "## Byte Order\n",
    "\n",
    "https://docs.python.org/3/library/struct.html#byte-order-size-and-alignment"
   ]
  },
  {
   "cell_type": "code",
   "execution_count": 31,
   "metadata": {},
   "outputs": [],
   "source": [
    "# Pack large into a struct with a 64-bit int, little-endian.\n",
    "s = struct.pack('<Q', large)"
   ]
  },
  {
   "cell_type": "code",
   "execution_count": 32,
   "metadata": {},
   "outputs": [],
   "source": [
    "# Unpack in big endian.\n",
    "large_big = struct.unpack('>Q', s)[0]"
   ]
  },
  {
   "cell_type": "code",
   "execution_count": 33,
   "metadata": {},
   "outputs": [
    {
     "name": "stdout",
     "output_type": "stream",
     "text": [
      "s: 1111111011011100101110101001100001110110010101000011001000010000\n",
      "t: 0001000000110010010101000111011010011000101110101101110011111110\n"
     ]
    }
   ],
   "source": [
    "# Print large using f-strings.\n",
    "print(f's: {large:064b}')\n",
    "\n",
    "# Print large_big using f-strings.\n",
    "print(f't: {large_big:064b}')"
   ]
  },
  {
   "cell_type": "code",
   "execution_count": 34,
   "metadata": {},
   "outputs": [
    {
     "name": "stdout",
     "output_type": "stream",
     "text": [
      "s: 0xfedcba9876543210\n",
      "t: 0x1032547698badcfe\n"
     ]
    }
   ],
   "source": [
    "# Print s using f-strings.\n",
    "print(f's: {hex(large)}')\n",
    "\n",
    "# Print t using f-strings.\n",
    "print(f't: {hex(large_big)}')"
   ]
  },
  {
   "cell_type": "markdown",
   "metadata": {},
   "source": [
    "## Type Bit-Style Conversions"
   ]
  },
  {
   "cell_type": "markdown",
   "metadata": {},
   "source": [
    "Floats in Python are usually 64-bit, which are typically called doubles:  \n",
    "https://docs.python.org/3/tutorial/floatingpoint.html#representation-error  \n",
    "\n",
    "How can we see the bits?  \n",
    "\n",
    "![Double bits](https://upload.wikimedia.org/wikipedia/commons/thumb/a/a9/IEEE_754_Double_Floating_Point_Format.svg/618px-IEEE_754_Double_Floating_Point_Format.svg.png)"
   ]
  },
  {
   "cell_type": "code",
   "execution_count": 35,
   "metadata": {},
   "outputs": [],
   "source": [
    "# A float.\n",
    "f = 23.0"
   ]
  },
  {
   "cell_type": "code",
   "execution_count": 36,
   "metadata": {},
   "outputs": [],
   "source": [
    "# Pack float into a struct.\n",
    "s = struct.pack('>d', f)"
   ]
  },
  {
   "cell_type": "code",
   "execution_count": 37,
   "metadata": {},
   "outputs": [
    {
     "name": "stdout",
     "output_type": "stream",
     "text": [
      "23.0 4037000000000000 0100000000110111000000000000000000000000000000000000000000000000\n"
     ]
    }
   ],
   "source": [
    "# Unpack struct into a float.\n",
    "i = struct.unpack('>Q', s)[0]\n",
    "\n",
    "# Show.\n",
    "print(f\"{f} {i:016x} {i:064b}\")"
   ]
  },
  {
   "cell_type": "code",
   "execution_count": 38,
   "metadata": {},
   "outputs": [
    {
     "name": "stdout",
     "output_type": "stream",
     "text": [
      "2.300000e+01\n"
     ]
    }
   ],
   "source": [
    "# Print f in exponential notation.\n",
    "print(f'{f:e}')"
   ]
  },
  {
   "cell_type": "code",
   "execution_count": 39,
   "metadata": {},
   "outputs": [],
   "source": [
    "# Bit string.\n",
    "fstr = f\"{i:064b}\""
   ]
  },
  {
   "cell_type": "code",
   "execution_count": 40,
   "metadata": {},
   "outputs": [
    {
     "name": "stdout",
     "output_type": "stream",
     "text": [
      "0 10000000011 0111000000000000000000000000000000000000000000000000\n"
     ]
    }
   ],
   "source": [
    "# Fraction.\n",
    "sign, exp, frac = fstr[0], fstr[1:12], fstr[12:]\n",
    "\n",
    "# Show.\n",
    "print(sign, exp, frac)"
   ]
  },
  {
   "cell_type": "code",
   "execution_count": 41,
   "metadata": {},
   "outputs": [
    {
     "name": "stdout",
     "output_type": "stream",
     "text": [
      "0 1027 1970324836974592\n"
     ]
    }
   ],
   "source": [
    "# To ints.\n",
    "isign, iexp, ifrac = int(sign), int(exp, 2), int(frac, 2)\n",
    "\n",
    "# Show.\n",
    "print(isign, iexp, ifrac)"
   ]
  },
  {
   "cell_type": "code",
   "execution_count": 42,
   "metadata": {},
   "outputs": [],
   "source": [
    "# Convert to float.\n",
    "f_conv = ((-1) ** isign) * (2 ** (iexp - 1023)) * (1 + ifrac / 2 ** 52)"
   ]
  },
  {
   "cell_type": "code",
   "execution_count": 43,
   "metadata": {},
   "outputs": [
    {
     "data": {
      "text/plain": [
       "23.0"
      ]
     },
     "execution_count": 43,
     "metadata": {},
     "output_type": "execute_result"
    }
   ],
   "source": [
    "# Show.\n",
    "f_conv"
   ]
  },
  {
   "cell_type": "markdown",
   "metadata": {},
   "source": [
    "## End"
   ]
  }
 ],
 "metadata": {
  "kernelspec": {
   "display_name": ".venv",
   "language": "python",
   "name": "python3"
  },
  "language_info": {
   "codemirror_mode": {
    "name": "ipython",
    "version": 3
   },
   "file_extension": ".py",
   "mimetype": "text/x-python",
   "name": "python",
   "nbconvert_exporter": "python",
   "pygments_lexer": "ipython3",
   "version": "3.13.2"
  }
 },
 "nbformat": 4,
 "nbformat_minor": 2
}
